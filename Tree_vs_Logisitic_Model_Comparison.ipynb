{
  "nbformat": 4,
  "nbformat_minor": 0,
  "metadata": {
    "colab": {
      "name": "Tree vs Logisitic Model Comparison.ipynb",
      "provenance": [],
      "collapsed_sections": [],
      "authorship_tag": "ABX9TyOy6pxoY5A+1wmb2Vj+kAGT",
      "include_colab_link": true
    },
    "kernelspec": {
      "name": "python3",
      "display_name": "Python 3"
    }
  },
  "cells": [
    {
      "cell_type": "markdown",
      "metadata": {
        "id": "view-in-github",
        "colab_type": "text"
      },
      "source": [
        "<a href=\"https://colab.research.google.com/github/Ammulator/Tree-vs-Logistic-Model-Comparision/blob/main/Tree_vs_Logisitic_Model_Comparison.ipynb\" target=\"_parent\"><img src=\"https://colab.research.google.com/assets/colab-badge.svg\" alt=\"Open In Colab\"/></a>"
      ]
    },
    {
      "cell_type": "markdown",
      "metadata": {
        "id": "XDuOBsYByUPO"
      },
      "source": [
        "**1. Importing Libraries**"
      ]
    },
    {
      "cell_type": "code",
      "metadata": {
        "id": "XWqUvtF1lhxo"
      },
      "source": [
        "import pandas as pd\r\n",
        "from sklearn.linear_model import LogisticRegression\r\n",
        "from sklearn.tree import DecisionTreeClassifier\r\n",
        "from sklearn.model_selection import train_test_split\r\n",
        "from sklearn.metrics import accuracy_score,precision_score,recall_score,f1_score"
      ],
      "execution_count": 36,
      "outputs": []
    },
    {
      "cell_type": "markdown",
      "metadata": {
        "id": "xRlFU_Woz50m"
      },
      "source": [
        "**2. Define the Display Function for Score**"
      ]
    },
    {
      "cell_type": "code",
      "metadata": {
        "id": "ZAF_g3Vg0EI0"
      },
      "source": [
        "def display_score(model_name,accuracy,precision,recall,f1):\r\n",
        "  #Using F-String for printing values\r\n",
        "  print(f\"\"\"{model_name.upper()}\r\n",
        "  Accuracy: {round(accuracy,4)}\r\n",
        "  Precision: {round(precision,4)}\r\n",
        "  Recall: {round(recall,4)}\r\n",
        "  F1: {round(f1,4)}\"\"\")"
      ],
      "execution_count": 43,
      "outputs": []
    },
    {
      "cell_type": "markdown",
      "metadata": {
        "id": "-YbNXs96zLV6"
      },
      "source": [
        "**3. Importing Dataset and Selecting Features**"
      ]
    },
    {
      "cell_type": "code",
      "metadata": {
        "id": "PMpjGF7Zy_B1"
      },
      "source": [
        "df=pd.read_csv(\"BankChurners.csv\")\r\n",
        "df['Gender']=df['Gender']=='M'\r\n",
        "df[\"Attrition_Flag\"]=df[\"Attrition_Flag\"]==\"Existing Customer\"\r\n",
        "X=df[['CLIENTNUM','Attrition_Flag','Gender','Credit_Limit','Total_Trans_Amt','Total_Trans_Ct']].values\r\n",
        "y=df['Customer_Age'].values\r\n",
        "\r\n",
        "#Train Test Split\r\n",
        "X_train,X_test,y_train,y_test=train_test_split(X,y,random_state=0)\r\n"
      ],
      "execution_count": 38,
      "outputs": []
    },
    {
      "cell_type": "markdown",
      "metadata": {
        "id": "LMASYtfG2qXD"
      },
      "source": [
        "**4. Decision Tree Classifier Model**"
      ]
    },
    {
      "cell_type": "code",
      "metadata": {
        "colab": {
          "base_uri": "https://localhost:8080/"
        },
        "id": "BxH9pCMq2kCC",
        "outputId": "ffb23ab4-3f62-4ea6-c473-f830072db263"
      },
      "source": [
        "tree_model=DecisionTreeClassifier(random_state=0)\r\n",
        "tree_model.fit(X_train,y_train)\r\n",
        "y_pred_tree=tree_model.predict(X_test)\r\n",
        "\r\n",
        "#Calling the Score Function\r\n",
        "tree_accuracy,tree_precision,tree_recall,tree_f1=(accuracy_score(y_test,y_pred_tree),precision_score(y_test,y_pred_tree,average='macro'),\r\n",
        "                                                  recall_score(y_test,y_pred_tree,average='macro'),\r\n",
        "                                                  f1_score(y_test,y_pred_tree,average='macro'))\r\n",
        "\r\n",
        "#Calling the display function\r\n",
        "display_score(\"Tree Model\",tree_accuracy,tree_precision,tree_recall,tree_f1)\r\n"
      ],
      "execution_count": 44,
      "outputs": [
        {
          "output_type": "stream",
          "text": [
            "TREE MODEL\n",
            "  Accuracy: 0.0352\n",
            "  Precision: 0.0267\n",
            "  Recall: 0.0264\n",
            "  F1: 0.0264\n"
          ],
          "name": "stdout"
        },
        {
          "output_type": "stream",
          "text": [
            "/usr/local/lib/python3.6/dist-packages/sklearn/metrics/_classification.py:1272: UndefinedMetricWarning: Precision is ill-defined and being set to 0.0 in labels with no predicted samples. Use `zero_division` parameter to control this behavior.\n",
            "  _warn_prf(average, modifier, msg_start, len(result))\n"
          ],
          "name": "stderr"
        }
      ]
    },
    {
      "cell_type": "markdown",
      "metadata": {
        "id": "V-XToyjA8DwU"
      },
      "source": [
        "5. Logisitic Regression"
      ]
    },
    {
      "cell_type": "code",
      "metadata": {
        "colab": {
          "base_uri": "https://localhost:8080/"
        },
        "id": "9V89ndBw8Cw6",
        "outputId": "65876bce-315e-42a7-a1cf-3b9fd791b6b1"
      },
      "source": [
        "model_log=LogisticRegression()\r\n",
        "model_log.fit(X_train,y_train)\r\n",
        "y_pred_log=model_log.predict(X_test)\r\n",
        "\r\n",
        "#Calling the function\r\n",
        "log_accuracy,log_precision,log_recall,log_f1=(accuracy_score(y_test,y_pred_log),precision_score(y_test,y_pred_log,average='weighted'),\r\n",
        "                                              recall_score(y_test,y_pred_log,average='weighted'),\r\n",
        "                                              f1_score(y_test,y_pred_log,average='weighted'))\r\n",
        "display_score(\"Logistic Regression Model\",log_accuracy,log_precision,log_recall,log_f1)"
      ],
      "execution_count": 45,
      "outputs": [
        {
          "output_type": "stream",
          "text": [
            "LOGISTIC REGRESSION MODEL\n",
            "  Accuracy: 0.0379\n",
            "  Precision: 0.0014\n",
            "  Recall: 0.0379\n",
            "  F1: 0.0028\n"
          ],
          "name": "stdout"
        },
        {
          "output_type": "stream",
          "text": [
            "/usr/local/lib/python3.6/dist-packages/sklearn/metrics/_classification.py:1272: UndefinedMetricWarning: Precision is ill-defined and being set to 0.0 in labels with no predicted samples. Use `zero_division` parameter to control this behavior.\n",
            "  _warn_prf(average, modifier, msg_start, len(result))\n"
          ],
          "name": "stderr"
        }
      ]
    }
  ]
}